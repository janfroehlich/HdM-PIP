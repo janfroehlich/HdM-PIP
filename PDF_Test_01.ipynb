{
 "cells": [
  {
   "cell_type": "code",
   "execution_count": null,
   "metadata": {},
   "outputs": [],
   "source": []
  },
  {
   "cell_type": "code",
   "execution_count": null,
   "metadata": {},
   "outputs": [],
   "source": [
    "import numpy as np\n",
    "import numpy.matlib\n",
    "from matplotlib import pyplot as plt\n",
    "from scipy import interpolate"
   ]
  },
  {
   "cell_type": "code",
   "execution_count": null,
   "metadata": {},
   "outputs": [],
   "source": [
    "# Functions\n",
    "def evalSpline( x, spline ):\n",
    "\n",
    "    # For each evaluation site, compute its breakpoint interval\n",
    "    intervalIdx = np.digitize( x, spline.k )\n",
    "\n",
    "    # Limit to valid range\n",
    "    intervalIdx = np.fmax( 0, np.fmin( np.size( spline.k,0), intervalIdx - 1 ) ) \n",
    "\n",
    "    # Calculate local coordinates\n",
    "    localX = x - spline.k[ intervalIdx ]\n",
    "\n",
    "    # Multiply with polynomial coefficients\n",
    "    c1 = spline.c[ :, 0 ]\n",
    "    c2 = spline.c[ :, 1 ]\n",
    "    c3 = spline.c[ :, 2 ]\n",
    "    c4 = spline.c[ :, 3 ]\n",
    "    y = localX * ( localX * ( localX  * c1[ intervalIdx ] + c2[ intervalIdx ] ) + c3[ intervalIdx ] ) + c4[ intervalIdx ]\n",
    "\n",
    "    return y\n",
    "\n",
    "class spline:\n",
    "    pass\n",
    "\n",
    "    \n",
    "\n",
    "\n",
    "def makeSpline( k, f, df ):\n",
    "    # Define new Spline Struct\n",
    "    sp = spline()\n",
    "\n",
    "    # Add knots\n",
    "    sp.k = k\n",
    "\n",
    "    # Add Function falues at knots\n",
    "    sp.f = f\n",
    "\n",
    "    # Add first derivative at knots\n",
    "    sp.df = df\n",
    "\n",
    "    # Calc polynomial coeffiecients\n",
    "\n",
    "    h = 1 / (k[2] - k[1])\n",
    "    \n",
    "    m = ( f[2] - f(1) )*h\n",
    "    \n",
    "    # a = h * h * ( -2 * m + df(1) + df(2) )\n",
    "    \n",
    "    # b = h * ( 3 * m - 2 * df(1) - df(2) )\n",
    "\n",
    "    # hm = np.concatenate( (1), df(1), b, a, axis=1 )\n",
    "\n",
    "    sp.c = np.array([[1,1,1,1],[1,1,1,1],[1,1,1,1],[1,1,1,1],[1,1,1,1]] )\n",
    "\n",
    "    return sp"
   ]
  },
  {
   "cell_type": "code",
   "execution_count": null,
   "metadata": {
    "tags": []
   },
   "outputs": [],
   "source": [
    "# Test\n",
    "k = np.array([0, 1, 2, 3.2, 4])\n",
    "f = np.array([1, 0, 1, 1, 2])\n",
    "df = np.array([0, 0, 0, 1, -1])\n",
    "\n",
    "x = np.linspace(-0.2,4.2,100)\n",
    "\n",
    "plt.plot( x, evalSpline(x, makeSpline( k, f, df )) );"
   ]
  },
  {
   "cell_type": "code",
   "execution_count": null,
   "metadata": {
    "tags": []
   },
   "outputs": [],
   "source": []
  },
  {
   "cell_type": "code",
   "execution_count": null,
   "metadata": {},
   "outputs": [],
   "source": []
  },
  {
   "cell_type": "code",
   "execution_count": null,
   "metadata": {},
   "outputs": [],
   "source": []
  },
  {
   "cell_type": "code",
   "execution_count": null,
   "metadata": {},
   "outputs": [],
   "source": [
    "# CPU\n",
    "iX = np.array([-1, 0, 150, 250, 350, 360, 361])\n",
    "iY = np.array([ 1, 1,   1, 0.5,    1,  1,   1])\n",
    "x = np.linspace(0,360,265)\n",
    "f = interpolate.PchipInterpolator( iX, iY )\n",
    "y = f(x)\n",
    "\n",
    "# y--ASIC \n",
    "plt.plot(x,y);"
   ]
  },
  {
   "cell_type": "code",
   "execution_count": null,
   "metadata": {},
   "outputs": [],
   "source": [
    "    x_points = [ 0, 1, 2, 3, 4, 5]\n",
    "    y_points = [12,14,22,39,58,77]\n",
    "\n",
    "    tck = interpolate.splrep(x_points, y_points)"
   ]
  },
  {
   "cell_type": "code",
   "execution_count": null,
   "metadata": {
    "tags": []
   },
   "outputs": [],
   "source": [
    "print(tck)"
   ]
  },
  {
   "cell_type": "code",
   "execution_count": null,
   "metadata": {},
   "outputs": [],
   "source": [
    "# Jan Spline\n",
    "# Erst mal 0...1 Bereich\n",
    "\n",
    "Ix = np.array([0 0])\n",
    "Iy = np.array([0.2 0.8])\n",
    "Id = np.array([0 0])\n",
    "\n",
    "\n",
    "\n"
   ]
  }
 ],
 "metadata": {
  "kernelspec": {
   "display_name": "Python 3",
   "language": "python",
   "name": "python3"
  },
  "language_info": {
   "codemirror_mode": {
    "name": "ipython",
    "version": 3
   },
   "file_extension": ".py",
   "mimetype": "text/x-python",
   "name": "python",
   "nbconvert_exporter": "python",
   "pygments_lexer": "ipython3",
   "version": "3.7.7-final"
  }
 },
 "nbformat": 4,
 "nbformat_minor": 4
}