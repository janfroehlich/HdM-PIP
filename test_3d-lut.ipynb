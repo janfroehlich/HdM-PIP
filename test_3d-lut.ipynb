{
 "cells": [
  {
   "cell_type": "code",
   "execution_count": null,
   "metadata": {},
   "outputs": [],
   "source": [
    "## Test 3D-LUTs\n",
    "\n",
    "import numpy as np\n",
    "import numpy.matlib\n",
    "from matplotlib import pyplot as plt\n",
    "from scipy import ndimage\n",
    "from scipy import misc\n",
    "from scipy import fftpack\n",
    "import skimage\n",
    "import imageioimport numpy as np\n",
    "import numpy.matlib\n",
    "from matplotlib import pyplot as plt\n",
    "from scipy import ndimage\n",
    "from scipy import misc\n",
    "from scipy import fftpack\n",
    "import skimage\n",
    "import imageio\n",
    "\n"
   ]
  },
  {
   "cell_type": "code",
   "execution_count": null,
   "metadata": {},
   "outputs": [],
   "source": [
    "myLogImagePath = \"/Users/jan/WorkSpace/Wissen/Paper/Beispielbilder/Marcie_LOG.PNG\"\n",
    "\n",
    "img = plt.imread( myLogImagePath )\n",
    "\n",
    "plt.imshow(img)\n",
    "myLogImagePath = \"/Users/jan/WorkSpace/Wissen/Paper/Beispielbilder/Marcie_LOG.PNG\"\n",
    "\n",
    "img = plt.imread( myLogImagePath )\n",
    "\n",
    "plt.imshow(img)\n"
   ]
  }
 ],
 "metadata": {
  "language_info": {
   "codemirror_mode": {
    "name": "ipython",
    "version": 3
   },
   "file_extension": ".py",
   "mimetype": "text/x-python",
   "name": "python",
   "nbconvert_exporter": "python",
   "pygments_lexer": "ipython3",
   "version": "3.7.7-final"
  },
  "orig_nbformat": 2,
  "kernelspec": {
   "name": "python37764bituntitledcondaa929e9dcb03b42d28aaa23f9d41db3fa",
   "display_name": "Python 3.7.7 64-bit ('untitled': conda)"
  }
 },
 "nbformat": 4,
 "nbformat_minor": 2
}