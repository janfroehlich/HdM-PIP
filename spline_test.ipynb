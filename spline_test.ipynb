{
 "cells": [
  {
   "cell_type": "code",
   "execution_count": null,
   "metadata": {},
   "outputs": [],
   "source": [
    "# Imports\n",
    "import numpy as np\n",
    "import numpy.matlib\n",
    "from matplotlib import pyplot as plt\n",
    "from scipy import ndimage\n",
    "from scipy import misc\n",
    "from scipy import fftpack\n",
    "import skimage\n",
    "import imageio"
   ]
  },
  {
   "cell_type": "code",
   "execution_count": null,
   "metadata": {},
   "outputs": [],
   "source": [
    "def evalSpline( x, splineCoeff )\n",
    "    return x\n"
   ]
  },
  {
   "cell_type": "code",
   "execution_count": null,
   "metadata": {},
   "outputs": [],
   "source": [
    "# Test\n",
    "k = np.array([0 1 2 3 4])\n",
    "f = np.array([1 0 1 1 2])\n",
    "df = np.array([0 0 0 1 -1])\n",
    "\n",
    "x = np.linspace(0,4,1000)\n",
    "\n",
    "plt.plot( x, evalSpline(x) );"
   ]
  }
 ],
 "metadata": {
  "language_info": {
   "codemirror_mode": {
    "name": "ipython",
    "version": 3
   },
   "file_extension": ".py",
   "mimetype": "text/x-python",
   "name": "python",
   "nbconvert_exporter": "python",
   "pygments_lexer": "ipython3",
   "version": "3.7.7-final"
  },
  "orig_nbformat": 2,
  "kernelspec": {
   "name": "python37764bituntitledcondaa929e9dcb03b42d28aaa23f9d41db3fa",
   "display_name": "Python 3.7.7 64-bit ('untitled': conda)"
  }
 },
 "nbformat": 4,
 "nbformat_minor": 2
}